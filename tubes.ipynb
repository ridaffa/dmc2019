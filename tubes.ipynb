{
  "nbformat": 4,
  "nbformat_minor": 0,
  "metadata": {
    "colab": {
      "name": "tubes.ipynb",
      "provenance": [],
      "collapsed_sections": []
    },
    "kernelspec": {
      "display_name": "Python 3",
      "language": "python",
      "name": "python3"
    },
    "language_info": {
      "codemirror_mode": {
        "name": "ipython",
        "version": 3
      },
      "file_extension": ".py",
      "mimetype": "text/x-python",
      "name": "python",
      "nbconvert_exporter": "python",
      "pygments_lexer": "ipython3",
      "version": "3.8.0"
    }
  },
  "cells": [
    {
      "cell_type": "code",
      "metadata": {
        "id": "sNEaiP7HSTd-",
        "colab": {
          "base_uri": "https://localhost:8080/"
        },
        "outputId": "9b3b7b0f-592a-4078-d59a-495832b49d81"
      },
      "source": [
        "import pandas as pd\n",
        "import numpy as np\n",
        "import matplotlib.pyplot as plt\n",
        "import seaborn as sns\n",
        "from sklearn.preprocessing import StandardScaler,LabelEncoder, Normalizer, Binarizer\n",
        "from sklearn.model_selection import train_test_split\n",
        "from google.colab import drive\n",
        "drive.mount('/content/drive')"
      ],
      "execution_count": 1,
      "outputs": [
        {
          "output_type": "stream",
          "text": [
            "Drive already mounted at /content/drive; to attempt to forcibly remount, call drive.mount(\"/content/drive\", force_remount=True).\n"
          ],
          "name": "stdout"
        }
      ]
    },
    {
      "cell_type": "code",
      "metadata": {
        "id": "vo_TKMYRSbrY",
        "colab": {
          "base_uri": "https://localhost:8080/"
        },
        "outputId": "348b3f9b-e4fa-4d14-e451-30e166015718"
      },
      "source": [
        "%cd /content/drive/My Drive/dataset_damin/"
      ],
      "execution_count": 2,
      "outputs": [
        {
          "output_type": "stream",
          "text": [
            "/content/drive/My Drive/dataset_damin\n"
          ],
          "name": "stdout"
        }
      ]
    },
    {
      "cell_type": "code",
      "metadata": {
        "id": "dArsa5-aSTeG",
        "colab": {
          "base_uri": "https://localhost:8080/",
          "height": 204
        },
        "outputId": "cb0b65c5-18cd-45bd-89f8-738481c42b07"
      },
      "source": [
        "train = pd.read_csv('train.csv', delimiter=\"|\")\n",
        "df = train.copy()\n",
        "test = pd.read_csv('test.csv', delimiter=\"|\")\n",
        "data_test = test.copy()\n",
        "df.head()"
      ],
      "execution_count": 3,
      "outputs": [
        {
          "output_type": "execute_result",
          "data": {
            "text/html": [
              "<div>\n",
              "<style scoped>\n",
              "    .dataframe tbody tr th:only-of-type {\n",
              "        vertical-align: middle;\n",
              "    }\n",
              "\n",
              "    .dataframe tbody tr th {\n",
              "        vertical-align: top;\n",
              "    }\n",
              "\n",
              "    .dataframe thead th {\n",
              "        text-align: right;\n",
              "    }\n",
              "</style>\n",
              "<table border=\"1\" class=\"dataframe\">\n",
              "  <thead>\n",
              "    <tr style=\"text-align: right;\">\n",
              "      <th></th>\n",
              "      <th>trustLevel</th>\n",
              "      <th>totalScanTimeInSeconds</th>\n",
              "      <th>grandTotal</th>\n",
              "      <th>lineItemVoids</th>\n",
              "      <th>scansWithoutRegistration</th>\n",
              "      <th>quantityModifications</th>\n",
              "      <th>scannedLineItemsPerSecond</th>\n",
              "      <th>valuePerSecond</th>\n",
              "      <th>lineItemVoidsPerPosition</th>\n",
              "      <th>fraud</th>\n",
              "    </tr>\n",
              "  </thead>\n",
              "  <tbody>\n",
              "    <tr>\n",
              "      <th>0</th>\n",
              "      <td>5</td>\n",
              "      <td>1054</td>\n",
              "      <td>54.70</td>\n",
              "      <td>7</td>\n",
              "      <td>0</td>\n",
              "      <td>3</td>\n",
              "      <td>0.027514</td>\n",
              "      <td>0.051898</td>\n",
              "      <td>0.241379</td>\n",
              "      <td>0</td>\n",
              "    </tr>\n",
              "    <tr>\n",
              "      <th>1</th>\n",
              "      <td>3</td>\n",
              "      <td>108</td>\n",
              "      <td>27.36</td>\n",
              "      <td>5</td>\n",
              "      <td>2</td>\n",
              "      <td>4</td>\n",
              "      <td>0.129630</td>\n",
              "      <td>0.253333</td>\n",
              "      <td>0.357143</td>\n",
              "      <td>0</td>\n",
              "    </tr>\n",
              "    <tr>\n",
              "      <th>2</th>\n",
              "      <td>3</td>\n",
              "      <td>1516</td>\n",
              "      <td>62.16</td>\n",
              "      <td>3</td>\n",
              "      <td>10</td>\n",
              "      <td>5</td>\n",
              "      <td>0.008575</td>\n",
              "      <td>0.041003</td>\n",
              "      <td>0.230769</td>\n",
              "      <td>0</td>\n",
              "    </tr>\n",
              "    <tr>\n",
              "      <th>3</th>\n",
              "      <td>6</td>\n",
              "      <td>1791</td>\n",
              "      <td>92.31</td>\n",
              "      <td>8</td>\n",
              "      <td>4</td>\n",
              "      <td>4</td>\n",
              "      <td>0.016192</td>\n",
              "      <td>0.051541</td>\n",
              "      <td>0.275862</td>\n",
              "      <td>0</td>\n",
              "    </tr>\n",
              "    <tr>\n",
              "      <th>4</th>\n",
              "      <td>5</td>\n",
              "      <td>430</td>\n",
              "      <td>81.53</td>\n",
              "      <td>3</td>\n",
              "      <td>7</td>\n",
              "      <td>2</td>\n",
              "      <td>0.062791</td>\n",
              "      <td>0.189605</td>\n",
              "      <td>0.111111</td>\n",
              "      <td>0</td>\n",
              "    </tr>\n",
              "  </tbody>\n",
              "</table>\n",
              "</div>"
            ],
            "text/plain": [
              "   trustLevel  totalScanTimeInSeconds  ...  lineItemVoidsPerPosition  fraud\n",
              "0           5                    1054  ...                  0.241379      0\n",
              "1           3                     108  ...                  0.357143      0\n",
              "2           3                    1516  ...                  0.230769      0\n",
              "3           6                    1791  ...                  0.275862      0\n",
              "4           5                     430  ...                  0.111111      0\n",
              "\n",
              "[5 rows x 10 columns]"
            ]
          },
          "metadata": {
            "tags": []
          },
          "execution_count": 3
        }
      ]
    },
    {
      "cell_type": "code",
      "metadata": {
        "colab": {
          "base_uri": "https://localhost:8080/",
          "height": 204
        },
        "id": "JAKfHIxdLuiH",
        "outputId": "45bebedf-b192-4cab-c5da-952199396584"
      },
      "source": [
        "data_test.head()"
      ],
      "execution_count": 4,
      "outputs": [
        {
          "output_type": "execute_result",
          "data": {
            "text/html": [
              "<div>\n",
              "<style scoped>\n",
              "    .dataframe tbody tr th:only-of-type {\n",
              "        vertical-align: middle;\n",
              "    }\n",
              "\n",
              "    .dataframe tbody tr th {\n",
              "        vertical-align: top;\n",
              "    }\n",
              "\n",
              "    .dataframe thead th {\n",
              "        text-align: right;\n",
              "    }\n",
              "</style>\n",
              "<table border=\"1\" class=\"dataframe\">\n",
              "  <thead>\n",
              "    <tr style=\"text-align: right;\">\n",
              "      <th></th>\n",
              "      <th>trustLevel</th>\n",
              "      <th>totalScanTimeInSeconds</th>\n",
              "      <th>grandTotal</th>\n",
              "      <th>lineItemVoids</th>\n",
              "      <th>scansWithoutRegistration</th>\n",
              "      <th>quantityModifications</th>\n",
              "      <th>scannedLineItemsPerSecond</th>\n",
              "      <th>valuePerSecond</th>\n",
              "      <th>lineItemVoidsPerPosition</th>\n",
              "    </tr>\n",
              "  </thead>\n",
              "  <tbody>\n",
              "    <tr>\n",
              "      <th>0</th>\n",
              "      <td>4</td>\n",
              "      <td>467</td>\n",
              "      <td>88.48</td>\n",
              "      <td>4</td>\n",
              "      <td>8</td>\n",
              "      <td>4</td>\n",
              "      <td>0.014989</td>\n",
              "      <td>0.189465</td>\n",
              "      <td>0.571429</td>\n",
              "    </tr>\n",
              "    <tr>\n",
              "      <th>1</th>\n",
              "      <td>3</td>\n",
              "      <td>1004</td>\n",
              "      <td>58.99</td>\n",
              "      <td>7</td>\n",
              "      <td>6</td>\n",
              "      <td>1</td>\n",
              "      <td>0.026892</td>\n",
              "      <td>0.058755</td>\n",
              "      <td>0.259259</td>\n",
              "    </tr>\n",
              "    <tr>\n",
              "      <th>2</th>\n",
              "      <td>1</td>\n",
              "      <td>162</td>\n",
              "      <td>14.00</td>\n",
              "      <td>4</td>\n",
              "      <td>5</td>\n",
              "      <td>4</td>\n",
              "      <td>0.006173</td>\n",
              "      <td>0.086420</td>\n",
              "      <td>4.000000</td>\n",
              "    </tr>\n",
              "    <tr>\n",
              "      <th>3</th>\n",
              "      <td>5</td>\n",
              "      <td>532</td>\n",
              "      <td>84.79</td>\n",
              "      <td>9</td>\n",
              "      <td>3</td>\n",
              "      <td>4</td>\n",
              "      <td>0.026316</td>\n",
              "      <td>0.159380</td>\n",
              "      <td>0.642857</td>\n",
              "    </tr>\n",
              "    <tr>\n",
              "      <th>4</th>\n",
              "      <td>5</td>\n",
              "      <td>890</td>\n",
              "      <td>42.16</td>\n",
              "      <td>4</td>\n",
              "      <td>0</td>\n",
              "      <td>0</td>\n",
              "      <td>0.021348</td>\n",
              "      <td>0.047371</td>\n",
              "      <td>0.210526</td>\n",
              "    </tr>\n",
              "  </tbody>\n",
              "</table>\n",
              "</div>"
            ],
            "text/plain": [
              "   trustLevel  totalScanTimeInSeconds  ...  valuePerSecond  lineItemVoidsPerPosition\n",
              "0           4                     467  ...        0.189465                  0.571429\n",
              "1           3                    1004  ...        0.058755                  0.259259\n",
              "2           1                     162  ...        0.086420                  4.000000\n",
              "3           5                     532  ...        0.159380                  0.642857\n",
              "4           5                     890  ...        0.047371                  0.210526\n",
              "\n",
              "[5 rows x 9 columns]"
            ]
          },
          "metadata": {
            "tags": []
          },
          "execution_count": 4
        }
      ]
    },
    {
      "cell_type": "code",
      "metadata": {
        "colab": {
          "base_uri": "https://localhost:8080/"
        },
        "id": "RRP9muGLTcZp",
        "outputId": "82173bcf-d73a-48b1-8cb0-512f56045a15"
      },
      "source": [
        "df.iloc[173]"
      ],
      "execution_count": 5,
      "outputs": [
        {
          "output_type": "execute_result",
          "data": {
            "text/plain": [
              "trustLevel                    6.00\n",
              "totalScanTimeInSeconds        2.00\n",
              "grandTotal                   75.74\n",
              "lineItemVoids                 6.00\n",
              "scansWithoutRegistration      1.00\n",
              "quantityModifications         1.00\n",
              "scannedLineItemsPerSecond     4.00\n",
              "valuePerSecond               37.87\n",
              "lineItemVoidsPerPosition      0.75\n",
              "fraud                         0.00\n",
              "Name: 173, dtype: float64"
            ]
          },
          "metadata": {
            "tags": []
          },
          "execution_count": 5
        }
      ]
    },
    {
      "cell_type": "code",
      "metadata": {
        "colab": {
          "base_uri": "https://localhost:8080/"
        },
        "id": "QCLFiTZlKeSy",
        "outputId": "fecf5073-fe12-4fe5-b7fc-86745babfd88"
      },
      "source": [
        "print(df.isnull().values.any())\r\n",
        "print(data_test.isnull().values.any())"
      ],
      "execution_count": 6,
      "outputs": [
        {
          "output_type": "stream",
          "text": [
            "False\n",
            "False\n"
          ],
          "name": "stdout"
        }
      ]
    },
    {
      "cell_type": "code",
      "metadata": {
        "id": "phdjhqgrSTeG",
        "colab": {
          "base_uri": "https://localhost:8080/",
          "height": 316
        },
        "outputId": "6ddaa4b1-774c-480d-94c7-a844b038f0f1"
      },
      "source": [
        "fig, ax1 = plt.subplots(1, 1, figsize= (10, 5))\n",
        "df['fraud'].value_counts().plot(kind='bar', ax=ax1)\n",
        "plt.show() "
      ],
      "execution_count": 7,
      "outputs": [
        {
          "output_type": "display_data",
          "data": {
            "image/png": "[encoded data removed]",
            "text/plain": [
              "<Figure size 720x360 with 1 Axes>"
            ]
          },
          "metadata": {
            "tags": [],
            "needs_background": "light"
          }
        }
      ]
    },
    {
      "cell_type": "code",
      "metadata": {
        "id": "DtGhwQOHSTeH",
        "colab": {
          "base_uri": "https://localhost:8080/",
          "height": 1000
        },
        "outputId": "8527fcc4-df9b-48cb-b80e-8c424b7a3967"
      },
      "source": [
        "numeric_features = df.select_dtypes(include=[np.number])\n",
        "numeric_features.columns\n",
        "correlation = numeric_features.corr()\n",
        "korelasi = correlation['fraud'].sort_values(ascending = False)\n",
        "for i in range(len(korelasi)):\n",
        "  if(korelasi[i] < 0):\n",
        "    korelasi[i]  = korelasi[i]  * (-1)\n",
        "plt.figure(figsize=(20,5))\n",
        "plt.plot(korelasi.sort_values(ascending = False))\n",
        "korelasi = korelasi.sort_values(ascending = False)\n",
        "f,ax = plt.subplots(figsize=(30, 10), ncols=2)\n",
        "sns.heatmap(df.corr(), annot=True, linewidths=.5, fmt= '.3f',ax=ax[0])\n",
        "sns.heatmap(data_test.corr(), annot=True, linewidths=.5, fmt= '.3f',ax=ax[1])\n",
        "\n",
        "plt.title(\"correlation matrix for frauds\")\n",
        "plt.show()\n",
        "print(korelasi)\n"
      ],
      "execution_count": 8,
      "outputs": [
        {
          "output_type": "display_data",
          "data": {
            "image/png": "[encoded data removed]",
            "text/plain": [
              "<Figure size 1440x360 with 1 Axes>"
            ]
          },
          "metadata": {
            "tags": [],
            "needs_background": "light"
          }
        },
        {
          "output_type": "display_data",
          "data": {
            "image/png": "[encoded data removed]",
            "text/plain": [
              "<Figure size 2160x720 with 4 Axes>"
            ]
          },
          "metadata": {
            "tags": [],
            "needs_background": "light"
          }
        },
        {
          "output_type": "stream",
          "text": [
            "fraud                        1.000000\n",
            "trustLevel                   0.319765\n",
            "totalScanTimeInSeconds       0.110414\n",
            "lineItemVoidsPerPosition     0.090116\n",
            "scansWithoutRegistration     0.074123\n",
            "lineItemVoids                0.063496\n",
            "valuePerSecond               0.028873\n",
            "scannedLineItemsPerSecond    0.023085\n",
            "grandTotal                   0.001421\n",
            "quantityModifications        0.000864\n",
            "Name: fraud, dtype: float64\n"
          ],
          "name": "stdout"
        }
      ]
    },
    {
      "cell_type": "code",
      "metadata": {
        "id": "l72L9urNSTeH",
        "colab": {
          "base_uri": "https://localhost:8080/",
          "height": 573
        },
        "outputId": "bab66603-fab9-4bc4-ba46-4480f2f87f62"
      },
      "source": [
        "\n",
        "df['totalItem'] = train.totalScanTimeInSeconds * train.scannedLineItemsPerSecond\n",
        "# df['valuePerItem'] = train.valuePerSecond / df.scannedLineItemsPerSecond\n",
        "# df['total_item'] = df.total_item - (train.scansWithoutRegistration * train.scannedLineItemsPerSecond)\n",
        "# df = df.drop(['quantityModifications','grandTotal','scannedLineItemsPerSecond','valuePerSecond','lineItemVoids'],axis=1)\n",
        "# df['fet1'] =  (train.lineItemVoids * train.lineItemVoidsPerPosition)\n",
        "# df['fet1'] =  (train.totalScanTimeInSeconds * train.valuePerSecond)\n",
        "# df['fet2'] = (train.totalScanTimeInSeconds * train.valuePerSecond.pow(2))\n",
        "# df['fet2'] = (train.totalScanTimeInSeconds * train.valuePerSecond.pow(3.5))\n",
        "\n",
        "\n",
        "data_test['totalItem'] = test.totalScanTimeInSeconds * test.scannedLineItemsPerSecond\n",
        "# data_test['valuePerItem'] = test.valuePerSecond / data_test.scannedLineItemsPerSecond\n",
        "# data_test['total_item'] = test.totalScanTimeInSeconds * test.scannedLineItemsPerSecond\n",
        "# data_test['total_item'] = data_test.total_item - (test.scansWithoutRegistration * test.scannedLineItemsPerSecond)\n",
        "# data_test = data_test.drop(['quantityModifications','grandTotal','scannedLineItemsPerSecond','valuePerSecond','lineItemVoids'],axis=1)\n",
        "# data_test['fet1'] =  (test.lineItemVoids * test.lineItemVoidsPerPosition)\n",
        "# data_test['fet1'] =  (test.totalScanTimeInSeconds * test.valuePerSecond)\n",
        "# data_test['fet2'] = (test.totalScanTimeInSeconds * test.valuePerSecond.pow(2))\n",
        "# data_test['fet2'] = (test.totalScanTimeInSeconds * test.valuePerSecond.pow(3.5))\n",
        "\n",
        "# df = df.drop(['grandTotal', 'quantityModifications'], axis=1)\n",
        "# data_test = data_test.drop(['grandTotal', 'quantityModifications'], axis=1)\n",
        "# df.totalScanTimeInSeconds = pd.to_numeric(df.totalScanTimeInSeconds, downcast='float')\n",
        "\n",
        "# sns.displot(df, x=\"total_item\", hue=\"fraud\")\n",
        "numeric_features = df.select_dtypes(include=[np.number])\n",
        "numeric_features.columns\n",
        "correlation = numeric_features.corr()\n",
        "korelasi = correlation['fraud'].sort_values(ascending = False)\n",
        "for i in range(len(korelasi)):\n",
        "  if(korelasi[i] < 0):\n",
        "    korelasi[i]  = korelasi[i]  * (-1)\n",
        "korelasi = korelasi.sort_values(ascending = False)\n",
        "sns.displot(df, x=\"totalItem\", hue=\"fraud\")\n",
        "print(korelasi)"
      ],
      "execution_count": 9,
      "outputs": [
        {
          "output_type": "stream",
          "text": [
            "fraud                        1.000000\n",
            "trustLevel                   0.319765\n",
            "totalItem                    0.298423\n",
            "totalScanTimeInSeconds       0.110414\n",
            "lineItemVoidsPerPosition     0.090116\n",
            "scansWithoutRegistration     0.074123\n",
            "lineItemVoids                0.063496\n",
            "valuePerSecond               0.028873\n",
            "scannedLineItemsPerSecond    0.023085\n",
            "grandTotal                   0.001421\n",
            "quantityModifications        0.000864\n",
            "Name: fraud, dtype: float64\n"
          ],
          "name": "stdout"
        },
        {
          "output_type": "display_data",
          "data": {
            "image/png": "[encoded data removed]",
            "text/plain": [
              "<Figure size 402.375x360 with 1 Axes>"
            ]
          },
          "metadata": {
            "tags": [],
            "needs_background": "light"
          }
        }
      ]
    },
    {
      "cell_type": "code",
      "metadata": {
        "id": "uybQ103xSTeI",
        "colab": {
          "base_uri": "https://localhost:8080/"
        },
        "outputId": "dff1902f-1160-44aa-ce52-778cfff3b026"
      },
      "source": [
        "df.dtypes"
      ],
      "execution_count": 10,
      "outputs": [
        {
          "output_type": "execute_result",
          "data": {
            "text/plain": [
              "trustLevel                     int64\n",
              "totalScanTimeInSeconds         int64\n",
              "grandTotal                   float64\n",
              "lineItemVoids                  int64\n",
              "scansWithoutRegistration       int64\n",
              "quantityModifications          int64\n",
              "scannedLineItemsPerSecond    float64\n",
              "valuePerSecond               float64\n",
              "lineItemVoidsPerPosition     float64\n",
              "fraud                          int64\n",
              "totalItem                    float64\n",
              "dtype: object"
            ]
          },
          "metadata": {
            "tags": []
          },
          "execution_count": 10
        }
      ]
    },
    {
      "cell_type": "code",
      "metadata": {
        "id": "ZHjYhu_UhgXa",
        "colab": {
          "base_uri": "https://localhost:8080/"
        },
        "outputId": "1589e100-e491-4fc3-9369-e09f166250fd"
      },
      "source": [
        "for i in (np.sort(df.trustLevel.unique())):\r\n",
        "  print(i)\r\n",
        "  print(df[df.trustLevel == i].fraud.value_counts())"
      ],
      "execution_count": 11,
      "outputs": [
        {
          "output_type": "stream",
          "text": [
            "1\n",
            "0    243\n",
            "1     89\n",
            "Name: fraud, dtype: int64\n",
            "2\n",
            "0    332\n",
            "1     15\n",
            "Name: fraud, dtype: int64\n",
            "3\n",
            "0    318\n",
            "Name: fraud, dtype: int64\n",
            "4\n",
            "0    289\n",
            "Name: fraud, dtype: int64\n",
            "5\n",
            "0    302\n",
            "Name: fraud, dtype: int64\n",
            "6\n",
            "0    291\n",
            "Name: fraud, dtype: int64\n"
          ],
          "name": "stdout"
        }
      ]
    },
    {
      "cell_type": "code",
      "metadata": {
        "colab": {
          "base_uri": "https://localhost:8080/",
          "height": 386
        },
        "id": "9ZevnVsjb5Xt",
        "outputId": "98c352f5-293c-40a8-c6cb-b15d17602b26"
      },
      "source": [
        "sns.displot(df, x=\"trustLevel\", hue=\"fraud\")"
      ],
      "execution_count": 12,
      "outputs": [
        {
          "output_type": "execute_result",
          "data": {
            "text/plain": [
              "<seaborn.axisgrid.FacetGrid at 0x7f058da46080>"
            ]
          },
          "metadata": {
            "tags": []
          },
          "execution_count": 12
        },
        {
          "output_type": "display_data",
          "data": {
            "image/png": "[encoded data removed]",
            "text/plain": [
              "<Figure size 402.375x360 with 1 Axes>"
            ]
          },
          "metadata": {
            "tags": [],
            "needs_background": "light"
          }
        }
      ]
    },
    {
      "cell_type": "markdown",
      "metadata": {
        "id": "oxnbQptIiH7D"
      },
      "source": [
        "Maka mendapat pola untuk trustLevel > 2 | fraud = (0), trustLevel <=2  | fraud = (0,1)"
      ]
    },
    {
      "cell_type": "markdown",
      "metadata": {
        "id": "2MmHSnlNihNA"
      },
      "source": [
        "Model klasifikasi ditunjukkan untuk trustLevel <= 2"
      ]
    },
    {
      "cell_type": "code",
      "metadata": {
        "id": "icqqfhAZvQKH"
      },
      "source": [
        "# df_new = df[df.trustLevel <=2 ]\r\n",
        "# df_new"
      ],
      "execution_count": 13,
      "outputs": []
    },
    {
      "cell_type": "code",
      "metadata": {
        "id": "UUse0FLCSTeI"
      },
      "source": [
        "X, y = df.loc[:, df.columns != 'fraud'], df.fraud"
      ],
      "execution_count": 14,
      "outputs": []
    },
    {
      "cell_type": "code",
      "metadata": {
        "id": "X2-5egpASTeI"
      },
      "source": [
        "# scaler = StandardScaler()\n",
        "# scaler = scaler.fit(X)\n",
        "# X = scaler.transform(X)"
      ],
      "execution_count": 15,
      "outputs": []
    },
    {
      "cell_type": "markdown",
      "metadata": {
        "id": "_wrNiEC0iliU"
      },
      "source": [
        ""
      ]
    },
    {
      "cell_type": "code",
      "metadata": {
        "id": "JB5bsauGSTeJ",
        "colab": {
          "base_uri": "https://localhost:8080/",
          "height": 419
        },
        "outputId": "0c665622-c0a3-4b25-ebed-98ef4363c972"
      },
      "source": [
        "X"
      ],
      "execution_count": 16,
      "outputs": [
        {
          "output_type": "execute_result",
          "data": {
            "text/html": [
              "<div>\n",
              "<style scoped>\n",
              "    .dataframe tbody tr th:only-of-type {\n",
              "        vertical-align: middle;\n",
              "    }\n",
              "\n",
              "    .dataframe tbody tr th {\n",
              "        vertical-align: top;\n",
              "    }\n",
              "\n",
              "    .dataframe thead th {\n",
              "        text-align: right;\n",
              "    }\n",
              "</style>\n",
              "<table border=\"1\" class=\"dataframe\">\n",
              "  <thead>\n",
              "    <tr style=\"text-align: right;\">\n",
              "      <th></th>\n",
              "      <th>trustLevel</th>\n",
              "      <th>totalScanTimeInSeconds</th>\n",
              "      <th>grandTotal</th>\n",
              "      <th>lineItemVoids</th>\n",
              "      <th>scansWithoutRegistration</th>\n",
              "      <th>quantityModifications</th>\n",
              "      <th>scannedLineItemsPerSecond</th>\n",
              "      <th>valuePerSecond</th>\n",
              "      <th>lineItemVoidsPerPosition</th>\n",
              "      <th>totalItem</th>\n",
              "    </tr>\n",
              "  </thead>\n",
              "  <tbody>\n",
              "    <tr>\n",
              "      <th>0</th>\n",
              "      <td>5</td>\n",
              "      <td>1054</td>\n",
              "      <td>54.70</td>\n",
              "      <td>7</td>\n",
              "      <td>0</td>\n",
              "      <td>3</td>\n",
              "      <td>0.027514</td>\n",
              "      <td>0.051898</td>\n",
              "      <td>0.241379</td>\n",
              "      <td>29.0</td>\n",
              "    </tr>\n",
              "    <tr>\n",
              "      <th>1</th>\n",
              "      <td>3</td>\n",
              "      <td>108</td>\n",
              "      <td>27.36</td>\n",
              "      <td>5</td>\n",
              "      <td>2</td>\n",
              "      <td>4</td>\n",
              "      <td>0.129630</td>\n",
              "      <td>0.253333</td>\n",
              "      <td>0.357143</td>\n",
              "      <td>14.0</td>\n",
              "    </tr>\n",
              "    <tr>\n",
              "      <th>2</th>\n",
              "      <td>3</td>\n",
              "      <td>1516</td>\n",
              "      <td>62.16</td>\n",
              "      <td>3</td>\n",
              "      <td>10</td>\n",
              "      <td>5</td>\n",
              "      <td>0.008575</td>\n",
              "      <td>0.041003</td>\n",
              "      <td>0.230769</td>\n",
              "      <td>13.0</td>\n",
              "    </tr>\n",
              "    <tr>\n",
              "      <th>3</th>\n",
              "      <td>6</td>\n",
              "      <td>1791</td>\n",
              "      <td>92.31</td>\n",
              "      <td>8</td>\n",
              "      <td>4</td>\n",
              "      <td>4</td>\n",
              "      <td>0.016192</td>\n",
              "      <td>0.051541</td>\n",
              "      <td>0.275862</td>\n",
              "      <td>29.0</td>\n",
              "    </tr>\n",
              "    <tr>\n",
              "      <th>4</th>\n",
              "      <td>5</td>\n",
              "      <td>430</td>\n",
              "      <td>81.53</td>\n",
              "      <td>3</td>\n",
              "      <td>7</td>\n",
              "      <td>2</td>\n",
              "      <td>0.062791</td>\n",
              "      <td>0.189605</td>\n",
              "      <td>0.111111</td>\n",
              "      <td>27.0</td>\n",
              "    </tr>\n",
              "    <tr>\n",
              "      <th>...</th>\n",
              "      <td>...</td>\n",
              "      <td>...</td>\n",
              "      <td>...</td>\n",
              "      <td>...</td>\n",
              "      <td>...</td>\n",
              "      <td>...</td>\n",
              "      <td>...</td>\n",
              "      <td>...</td>\n",
              "      <td>...</td>\n",
              "      <td>...</td>\n",
              "    </tr>\n",
              "    <tr>\n",
              "      <th>1874</th>\n",
              "      <td>1</td>\n",
              "      <td>321</td>\n",
              "      <td>76.03</td>\n",
              "      <td>8</td>\n",
              "      <td>7</td>\n",
              "      <td>2</td>\n",
              "      <td>0.071651</td>\n",
              "      <td>0.236854</td>\n",
              "      <td>0.347826</td>\n",
              "      <td>23.0</td>\n",
              "    </tr>\n",
              "    <tr>\n",
              "      <th>1875</th>\n",
              "      <td>1</td>\n",
              "      <td>397</td>\n",
              "      <td>41.89</td>\n",
              "      <td>5</td>\n",
              "      <td>5</td>\n",
              "      <td>0</td>\n",
              "      <td>0.065491</td>\n",
              "      <td>0.105516</td>\n",
              "      <td>0.192308</td>\n",
              "      <td>26.0</td>\n",
              "    </tr>\n",
              "    <tr>\n",
              "      <th>1876</th>\n",
              "      <td>4</td>\n",
              "      <td>316</td>\n",
              "      <td>41.83</td>\n",
              "      <td>5</td>\n",
              "      <td>8</td>\n",
              "      <td>1</td>\n",
              "      <td>0.094937</td>\n",
              "      <td>0.132373</td>\n",
              "      <td>0.166667</td>\n",
              "      <td>30.0</td>\n",
              "    </tr>\n",
              "    <tr>\n",
              "      <th>1877</th>\n",
              "      <td>2</td>\n",
              "      <td>685</td>\n",
              "      <td>62.68</td>\n",
              "      <td>1</td>\n",
              "      <td>6</td>\n",
              "      <td>2</td>\n",
              "      <td>0.035036</td>\n",
              "      <td>0.091504</td>\n",
              "      <td>0.041667</td>\n",
              "      <td>24.0</td>\n",
              "    </tr>\n",
              "    <tr>\n",
              "      <th>1878</th>\n",
              "      <td>4</td>\n",
              "      <td>1140</td>\n",
              "      <td>38.03</td>\n",
              "      <td>2</td>\n",
              "      <td>2</td>\n",
              "      <td>3</td>\n",
              "      <td>0.016667</td>\n",
              "      <td>0.033360</td>\n",
              "      <td>0.105263</td>\n",
              "      <td>19.0</td>\n",
              "    </tr>\n",
              "  </tbody>\n",
              "</table>\n",
              "<p>1879 rows × 10 columns</p>\n",
              "</div>"
            ],
            "text/plain": [
              "      trustLevel  totalScanTimeInSeconds  ...  lineItemVoidsPerPosition  totalItem\n",
              "0              5                    1054  ...                  0.241379       29.0\n",
              "1              3                     108  ...                  0.357143       14.0\n",
              "2              3                    1516  ...                  0.230769       13.0\n",
              "3              6                    1791  ...                  0.275862       29.0\n",
              "4              5                     430  ...                  0.111111       27.0\n",
              "...          ...                     ...  ...                       ...        ...\n",
              "1874           1                     321  ...                  0.347826       23.0\n",
              "1875           1                     397  ...                  0.192308       26.0\n",
              "1876           4                     316  ...                  0.166667       30.0\n",
              "1877           2                     685  ...                  0.041667       24.0\n",
              "1878           4                    1140  ...                  0.105263       19.0\n",
              "\n",
              "[1879 rows x 10 columns]"
            ]
          },
          "metadata": {
            "tags": []
          },
          "execution_count": 16
        }
      ]
    },
    {
      "cell_type": "code",
      "metadata": {
        "id": "h0lOv9ptSTeJ"
      },
      "source": [
        "X_train_o, X_valid_o, y_train_o, y_valid_o = train_test_split(X, y, test_size=0.2, random_state=13)"
      ],
      "execution_count": 17,
      "outputs": []
    },
    {
      "cell_type": "code",
      "metadata": {
        "id": "EsqmHq93STeJ",
        "colab": {
          "base_uri": "https://localhost:8080/"
        },
        "outputId": "2ad12590-bfcd-43e7-9f69-7376153fcf4e"
      },
      "source": [
        "from imblearn.over_sampling import SMOTE, RandomOverSampler, ADASYN, SVMSMOTE, BorderlineSMOTE, BorderlineSMOTE, SMOTENC\n",
        "# oversample = SMOTENC(random_state=42, categorical_features=[0,2,3])\n",
        "oversample = SMOTE()\n",
        "X_train, y_train = oversample.fit_resample(X_train_o, y_train_o)\n",
        "# X_train, y_train = X_train_o, y_train_o"
      ],
      "execution_count": 18,
      "outputs": [
        {
          "output_type": "stream",
          "text": [
            "/usr/local/lib/python3.6/dist-packages/sklearn/externals/six.py:31: FutureWarning: The module is deprecated in version 0.21 and will be removed in version 0.23 since we've dropped support for Python 2.7. Please rely on the official version of six (https://pypi.org/project/six/).\n",
            "  \"(https://pypi.org/project/six/).\", FutureWarning)\n",
            "/usr/local/lib/python3.6/dist-packages/sklearn/utils/deprecation.py:144: FutureWarning: The sklearn.neighbors.base module is  deprecated in version 0.22 and will be removed in version 0.24. The corresponding classes / functions should instead be imported from sklearn.neighbors. Anything that cannot be imported from sklearn.neighbors is now part of the private API.\n",
            "  warnings.warn(message, FutureWarning)\n",
            "/usr/local/lib/python3.6/dist-packages/sklearn/utils/deprecation.py:87: FutureWarning: Function safe_indexing is deprecated; safe_indexing is deprecated in version 0.22 and will be removed in version 0.24.\n",
            "  warnings.warn(msg, category=FutureWarning)\n"
          ],
          "name": "stderr"
        }
      ]
    },
    {
      "cell_type": "code",
      "metadata": {
        "id": "XHAC_0ajSTeK",
        "scrolled": true,
        "colab": {
          "base_uri": "https://localhost:8080/",
          "height": 319
        },
        "outputId": "2b3eb44d-70c5-48c4-a032-2318b9eed871"
      },
      "source": [
        "# fig, ax1 = plt.subplots(1, 1, figsize= (10, 5))\r\n",
        "# y_train.value_counts.plot(kind='bar', ax=ax1)\r\n",
        "# plt.show()\r\n",
        "fraud_df_train = pd.DataFrame(data=y_train, columns=['fraud'])\r\n",
        "fig, ax1 = plt.subplots(1, 1, figsize= (10, 5))\r\n",
        "fraud_df_train.fraud.value_counts().plot(kind='bar', ax=ax1)\r\n",
        "plt.show()"
      ],
      "execution_count": 32,
      "outputs": [
        {
          "output_type": "display_data",
          "data": {
            "image/png": "[encoded data removed]",
            "text/plain": [
              "<Figure size 720x360 with 1 Axes>"
            ]
          },
          "metadata": {
            "tags": []
          }
        }
      ]
    },
    {
      "cell_type": "code",
      "metadata": {
        "id": "gkDecuMXSTeK",
        "colab": {
          "base_uri": "https://localhost:8080/"
        },
        "outputId": "8ac68b1a-c1b1-4eeb-96dd-15a6546d1865"
      },
      "source": [
        "from sklearn.metrics import accuracy_score, log_loss\n",
        "from sklearn.neighbors import KNeighborsClassifier\n",
        "from sklearn.linear_model import LogisticRegression\n",
        "from sklearn.svm import SVC, LinearSVC, NuSVC,LinearSVC\n",
        "from sklearn.tree import DecisionTreeClassifier\n",
        "from sklearn.ensemble import RandomForestClassifier, AdaBoostClassifier, GradientBoostingClassifier,ExtraTreesClassifier,StackingClassifier, VotingClassifier\n",
        "from sklearn.naive_bayes import GaussianNB\n",
        "from sklearn.discriminant_analysis import LinearDiscriminantAnalysis\n",
        "from sklearn.discriminant_analysis import QuadraticDiscriminantAnalysis\n",
        "from sklearn.metrics import classification_report, confusion_matrix\n",
        "from imblearn.ensemble import BalancedRandomForestClassifier, RUSBoostClassifier, BalancedBaggingClassifier\n",
        "from sklearn.pipeline import make_pipeline"
      ],
      "execution_count": 20,
      "outputs": [
        {
          "output_type": "stream",
          "text": [
            "/usr/local/lib/python3.6/dist-packages/sklearn/utils/deprecation.py:144: FutureWarning: The sklearn.ensemble.bagging module is  deprecated in version 0.22 and will be removed in version 0.24. The corresponding classes / functions should instead be imported from sklearn.ensemble. Anything that cannot be imported from sklearn.ensemble is now part of the private API.\n",
            "  warnings.warn(message, FutureWarning)\n",
            "/usr/local/lib/python3.6/dist-packages/sklearn/utils/deprecation.py:144: FutureWarning: The sklearn.ensemble.base module is  deprecated in version 0.22 and will be removed in version 0.24. The corresponding classes / functions should instead be imported from sklearn.ensemble. Anything that cannot be imported from sklearn.ensemble is now part of the private API.\n",
            "  warnings.warn(message, FutureWarning)\n",
            "/usr/local/lib/python3.6/dist-packages/sklearn/utils/deprecation.py:144: FutureWarning: The sklearn.ensemble.forest module is  deprecated in version 0.22 and will be removed in version 0.24. The corresponding classes / functions should instead be imported from sklearn.ensemble. Anything that cannot be imported from sklearn.ensemble is now part of the private API.\n",
            "  warnings.warn(message, FutureWarning)\n",
            "/usr/local/lib/python3.6/dist-packages/sklearn/externals/joblib/__init__.py:15: FutureWarning: sklearn.externals.joblib is deprecated in 0.21 and will be removed in 0.23. Please import this functionality directly from joblib, which can be installed with: pip install joblib. If this warning is raised when loading pickled models, you may need to re-serialize those models with scikit-learn 0.21+.\n",
            "  warnings.warn(msg, category=FutureWarning)\n"
          ],
          "name": "stderr"
        }
      ]
    },
    {
      "cell_type": "code",
      "metadata": {
        "id": "CpGuHSojSTeK"
      },
      "source": [
        "estimators = [\n",
        "('gbc', GradientBoostingClassifier(random_state=42)),\n",
        "('svr', SVC(gamma='auto', kernel='linear', C=0.5, random_state=1))\n",
        "]\n",
        "classifiers = [\n",
        "    KNeighborsClassifier(5),\n",
        "    SVC(gamma='auto', kernel='linear', C=0.3),\n",
        "    LinearSVC(random_state=42),\n",
        "    DecisionTreeClassifier(),\n",
        "    RandomForestClassifier(),\n",
        "    AdaBoostClassifier(),\n",
        "    GradientBoostingClassifier(),\n",
        "    # ExtraTreesClassifier(),\n",
        "    # StackingClassifier(estimators=estimators, final_estimator=AdaBoostClassifier()),\n",
        "    GaussianNB(),\n",
        "    BalancedBaggingClassifier(random_state=42),\n",
        "    RUSBoostClassifier(random_state=0),\n",
        "    LinearDiscriminantAnalysis(),\n",
        "    QuadraticDiscriminantAnalysis()\n",
        "]"
      ],
      "execution_count": 21,
      "outputs": []
    },
    {
      "cell_type": "code",
      "metadata": {
        "id": "7x0vCQJbSTeL",
        "colab": {
          "base_uri": "https://localhost:8080/"
        },
        "outputId": "9eeff9c2-c1b7-4094-eabe-1abd67f0006c"
      },
      "source": [
        "log_cols=[\"Classifier\", \"Accuracy\", \"Log Loss\"]\n",
        "log = pd.DataFrame(columns=log_cols)\n",
        "target_names = list(df['fraud'].unique())\n",
        "for clf in classifiers:\n",
        "    clf.fit(X_train, y_train)\n",
        "    name = clf.__class__.__name__\n",
        "    \n",
        "    print(\"=\"*30)\n",
        "    print(name)\n",
        "    \n",
        "    print('****Results****')\n",
        "    train_predictions = clf.predict(X_valid_o)\n",
        "    acc = accuracy_score(y_valid_o, train_predictions)\n",
        "    print(\"Accuracy: {:.4%}\".format(acc))\n",
        "    print(classification_report(y_valid_o.to_numpy().ravel(), train_predictions, labels=target_names))\n",
        "    if name != 'SVC' and name != 'VotingClassifier' and name != 'LinearSVC':\n",
        "      train_predictions = clf.predict_proba(X_valid_o)\n",
        "    \n",
        "    ll = log_loss(y_valid_o, train_predictions)\n",
        "    print(\"Log Loss: {}\".format(ll))\n",
        "    \n",
        "    \n",
        "    log_entry = pd.DataFrame([[name, acc*100, ll]], columns=log_cols)\n",
        "    log = log.append(log_entry)\n",
        "    \n",
        "print(\"=\"*30)"
      ],
      "execution_count": 22,
      "outputs": [
        {
          "output_type": "stream",
          "text": [
            "==============================\n",
            "KNeighborsClassifier\n",
            "****Results****\n",
            "Accuracy: 74.7340%\n",
            "              precision    recall  f1-score   support\n",
            "\n",
            "           0       0.95      0.77      0.85       352\n",
            "           1       0.11      0.42      0.17        24\n",
            "\n",
            "    accuracy                           0.75       376\n",
            "   macro avg       0.53      0.59      0.51       376\n",
            "weighted avg       0.90      0.75      0.81       376\n",
            "\n",
            "Log Loss: 3.038136398813632\n",
            "==============================\n",
            "SVC\n",
            "****Results****\n",
            "Accuracy: 99.7340%\n",
            "              precision    recall  f1-score   support\n",
            "\n",
            "           0       1.00      1.00      1.00       352\n",
            "           1       0.96      1.00      0.98        24\n",
            "\n",
            "    accuracy                           1.00       376\n",
            "   macro avg       0.98      1.00      0.99       376\n",
            "weighted avg       1.00      1.00      1.00       376\n",
            "\n",
            "Log Loss: 0.09186057444771609\n"
          ],
          "name": "stdout"
        },
        {
          "output_type": "stream",
          "text": [
            "/usr/local/lib/python3.6/dist-packages/sklearn/svm/_base.py:947: ConvergenceWarning: Liblinear failed to converge, increase the number of iterations.\n",
            "  \"the number of iterations.\", ConvergenceWarning)\n"
          ],
          "name": "stderr"
        },
        {
          "output_type": "stream",
          "text": [
            "==============================\n",
            "LinearSVC\n",
            "****Results****\n",
            "Accuracy: 77.6596%\n",
            "              precision    recall  f1-score   support\n",
            "\n",
            "           0       1.00      0.76      0.86       352\n",
            "           1       0.22      0.96      0.35        24\n",
            "\n",
            "    accuracy                           0.78       376\n",
            "   macro avg       0.61      0.86      0.61       376\n",
            "weighted avg       0.95      0.78      0.83       376\n",
            "\n",
            "Log Loss: 7.716286127019159\n",
            "==============================\n",
            "DecisionTreeClassifier\n",
            "****Results****\n",
            "Accuracy: 97.8723%\n",
            "              precision    recall  f1-score   support\n",
            "\n",
            "           0       0.99      0.99      0.99       352\n",
            "           1       0.81      0.88      0.84        24\n",
            "\n",
            "    accuracy                           0.98       376\n",
            "   macro avg       0.90      0.93      0.91       376\n",
            "weighted avg       0.98      0.98      0.98       376\n",
            "\n",
            "Log Loss: 0.734867582870441\n",
            "==============================\n",
            "RandomForestClassifier\n",
            "****Results****\n",
            "Accuracy: 98.1383%\n",
            "              precision    recall  f1-score   support\n",
            "\n",
            "           0       0.99      0.99      0.99       352\n",
            "           1       0.84      0.88      0.86        24\n",
            "\n",
            "    accuracy                           0.98       376\n",
            "   macro avg       0.92      0.93      0.92       376\n",
            "weighted avg       0.98      0.98      0.98       376\n",
            "\n",
            "Log Loss: 0.04906117497188278\n",
            "==============================\n",
            "AdaBoostClassifier\n",
            "****Results****\n",
            "Accuracy: 99.4681%\n",
            "              precision    recall  f1-score   support\n",
            "\n",
            "           0       1.00      0.99      1.00       352\n",
            "           1       0.92      1.00      0.96        24\n",
            "\n",
            "    accuracy                           0.99       376\n",
            "   macro avg       0.96      1.00      0.98       376\n",
            "weighted avg       1.00      0.99      0.99       376\n",
            "\n",
            "Log Loss: 0.2745617048468479\n",
            "==============================\n",
            "GradientBoostingClassifier\n",
            "****Results****\n",
            "Accuracy: 98.6702%\n",
            "              precision    recall  f1-score   support\n",
            "\n",
            "           0       1.00      0.99      0.99       352\n",
            "           1       0.85      0.96      0.90        24\n",
            "\n",
            "    accuracy                           0.99       376\n",
            "   macro avg       0.92      0.97      0.95       376\n",
            "weighted avg       0.99      0.99      0.99       376\n",
            "\n",
            "Log Loss: 0.02733474704785617\n",
            "==============================\n",
            "ExtraTreesClassifier\n",
            "****Results****\n",
            "Accuracy: 98.9362%\n",
            "              precision    recall  f1-score   support\n",
            "\n",
            "           0       0.99      0.99      0.99       352\n",
            "           1       0.92      0.92      0.92        24\n",
            "\n",
            "    accuracy                           0.99       376\n",
            "   macro avg       0.96      0.96      0.96       376\n",
            "weighted avg       0.99      0.99      0.99       376\n",
            "\n",
            "Log Loss: 0.04796342212608911\n",
            "==============================\n",
            "GaussianNB\n",
            "****Results****\n",
            "Accuracy: 90.4255%\n",
            "              precision    recall  f1-score   support\n",
            "\n",
            "           0       1.00      0.90      0.95       352\n",
            "           1       0.40      0.96      0.56        24\n",
            "\n",
            "    accuracy                           0.90       376\n",
            "   macro avg       0.70      0.93      0.75       376\n",
            "weighted avg       0.96      0.90      0.92       376\n",
            "\n",
            "Log Loss: 0.613511187034672\n"
          ],
          "name": "stdout"
        },
        {
          "output_type": "stream",
          "text": [
            "/usr/local/lib/python3.6/dist-packages/sklearn/utils/deprecation.py:87: FutureWarning: Function safe_indexing is deprecated; safe_indexing is deprecated in version 0.22 and will be removed in version 0.24.\n",
            "  warnings.warn(msg, category=FutureWarning)\n",
            "/usr/local/lib/python3.6/dist-packages/sklearn/utils/deprecation.py:87: FutureWarning: Function safe_indexing is deprecated; safe_indexing is deprecated in version 0.22 and will be removed in version 0.24.\n",
            "  warnings.warn(msg, category=FutureWarning)\n",
            "/usr/local/lib/python3.6/dist-packages/sklearn/utils/deprecation.py:87: FutureWarning: Function safe_indexing is deprecated; safe_indexing is deprecated in version 0.22 and will be removed in version 0.24.\n",
            "  warnings.warn(msg, category=FutureWarning)\n",
            "/usr/local/lib/python3.6/dist-packages/sklearn/utils/deprecation.py:87: FutureWarning: Function safe_indexing is deprecated; safe_indexing is deprecated in version 0.22 and will be removed in version 0.24.\n",
            "  warnings.warn(msg, category=FutureWarning)\n",
            "/usr/local/lib/python3.6/dist-packages/sklearn/utils/deprecation.py:87: FutureWarning: Function safe_indexing is deprecated; safe_indexing is deprecated in version 0.22 and will be removed in version 0.24.\n",
            "  warnings.warn(msg, category=FutureWarning)\n",
            "/usr/local/lib/python3.6/dist-packages/sklearn/utils/deprecation.py:87: FutureWarning: Function safe_indexing is deprecated; safe_indexing is deprecated in version 0.22 and will be removed in version 0.24.\n",
            "  warnings.warn(msg, category=FutureWarning)\n",
            "/usr/local/lib/python3.6/dist-packages/sklearn/utils/deprecation.py:87: FutureWarning: Function safe_indexing is deprecated; safe_indexing is deprecated in version 0.22 and will be removed in version 0.24.\n",
            "  warnings.warn(msg, category=FutureWarning)\n",
            "/usr/local/lib/python3.6/dist-packages/sklearn/utils/deprecation.py:87: FutureWarning: Function safe_indexing is deprecated; safe_indexing is deprecated in version 0.22 and will be removed in version 0.24.\n",
            "  warnings.warn(msg, category=FutureWarning)\n",
            "/usr/local/lib/python3.6/dist-packages/sklearn/utils/deprecation.py:87: FutureWarning: Function safe_indexing is deprecated; safe_indexing is deprecated in version 0.22 and will be removed in version 0.24.\n",
            "  warnings.warn(msg, category=FutureWarning)\n",
            "/usr/local/lib/python3.6/dist-packages/sklearn/utils/deprecation.py:87: FutureWarning: Function safe_indexing is deprecated; safe_indexing is deprecated in version 0.22 and will be removed in version 0.24.\n",
            "  warnings.warn(msg, category=FutureWarning)\n"
          ],
          "name": "stderr"
        },
        {
          "output_type": "stream",
          "text": [
            "==============================\n",
            "BalancedBaggingClassifier\n",
            "****Results****\n",
            "Accuracy: 98.6702%\n",
            "              precision    recall  f1-score   support\n",
            "\n",
            "           0       0.99      0.99      0.99       352\n",
            "           1       0.91      0.88      0.89        24\n",
            "\n",
            "    accuracy                           0.99       376\n",
            "   macro avg       0.95      0.93      0.94       376\n",
            "weighted avg       0.99      0.99      0.99       376\n",
            "\n",
            "Log Loss: 0.11472730374537857\n",
            "==============================\n",
            "RUSBoostClassifier\n",
            "****Results****\n",
            "Accuracy: 97.6064%\n",
            "              precision    recall  f1-score   support\n",
            "\n",
            "           0       0.99      0.98      0.99       352\n",
            "           1       0.76      0.92      0.83        24\n",
            "\n",
            "    accuracy                           0.98       376\n",
            "   macro avg       0.88      0.95      0.91       376\n",
            "weighted avg       0.98      0.98      0.98       376\n",
            "\n",
            "Log Loss: 0.8267260307292459\n",
            "==============================\n",
            "LinearDiscriminantAnalysis\n",
            "****Results****\n",
            "Accuracy: 87.7660%\n",
            "              precision    recall  f1-score   support\n",
            "\n",
            "           0       1.00      0.87      0.93       352\n",
            "           1       0.34      1.00      0.51        24\n",
            "\n",
            "    accuracy                           0.88       376\n",
            "   macro avg       0.67      0.93      0.72       376\n",
            "weighted avg       0.96      0.88      0.90       376\n",
            "\n",
            "Log Loss: 0.2583059108819731\n",
            "==============================\n",
            "QuadraticDiscriminantAnalysis\n",
            "****Results****\n",
            "Accuracy: 94.4149%\n",
            "              precision    recall  f1-score   support\n",
            "\n",
            "           0       1.00      0.94      0.97       352\n",
            "           1       0.53      0.96      0.69        24\n",
            "\n",
            "    accuracy                           0.94       376\n",
            "   macro avg       0.77      0.95      0.83       376\n",
            "weighted avg       0.97      0.94      0.95       376\n",
            "\n",
            "Log Loss: 0.47835267036924645\n",
            "==============================\n"
          ],
          "name": "stdout"
        },
        {
          "output_type": "stream",
          "text": [
            "/usr/local/lib/python3.6/dist-packages/sklearn/utils/deprecation.py:87: FutureWarning: Function safe_indexing is deprecated; safe_indexing is deprecated in version 0.22 and will be removed in version 0.24.\n",
            "  warnings.warn(msg, category=FutureWarning)\n"
          ],
          "name": "stderr"
        }
      ]
    },
    {
      "cell_type": "code",
      "metadata": {
        "id": "eLecP7g4STeL",
        "colab": {
          "base_uri": "https://localhost:8080/",
          "height": 295
        },
        "outputId": "2e619319-ea95-4263-e94b-f5da5307d113"
      },
      "source": [
        "sns.set_color_codes(\"muted\")\n",
        "sns.barplot(x='Accuracy', y='Classifier', data=log, color=\"b\")\n",
        "sns.set(rc={'figure.figsize':(5,10)})\n",
        "plt.xlabel('Accuracy %')\n",
        "plt.title('Classifier Accuracy')\n",
        "plt.show()\n",
        "\n",
        "# sns.set_color_codes(\"muted\")\n",
        "# sns.barplot(x='Log Loss', y='Classifier', data=log, color=\"g\")\n",
        "\n",
        "# plt.xlabel('Log Loss')\n",
        "# plt.title('Classifier Log Loss')\n",
        "# plt.show()"
      ],
      "execution_count": 23,
      "outputs": [
        {
          "output_type": "display_data",
          "data": {
            "image/png": "[encoded data removed]",
            "text/plain": [
              "<Figure size 432x288 with 1 Axes>"
            ]
          },
          "metadata": {
            "tags": [],
            "needs_background": "light"
          }
        }
      ]
    },
    {
      "cell_type": "code",
      "metadata": {
        "id": "3asGaDqVSTeM",
        "colab": {
          "base_uri": "https://localhost:8080/"
        },
        "outputId": "559dfac3-f91f-4ead-9ba0-21e3e18a1d1d"
      },
      "source": [
        "from sklearn.model_selection import KFold\n",
        "model = StackingClassifier(estimators=estimators, final_estimator=AdaBoostClassifier())\n",
        "model.fit(X_train, y_train)\n",
        "print('****Results****')\n",
        "train_predictions = model.predict(X_valid_o)\n",
        "acc = accuracy_score(y_valid_o, train_predictions)\n",
        "print(\"Accuracy: {:.4%}\".format(acc))\n",
        "print(classification_report(y_valid_o.to_numpy().ravel(), train_predictions, labels=target_names))\n",
        "# kf = KFold(n_splits=10, random_state=1)\n",
        "# kf.get_n_splits(X)\n",
        "# for train_index, test_index in kf.split(X):\n",
        "#   # print(\"TRAIN:\", train_index, \"TEST:\", test_index)\n",
        "#   X_train, X_test = X[train_index], X[test_index]\n",
        "#   y_train, y_test = y[train_index], y[test_index]\n",
        "#   model.fit(X_train, y_train)\n",
        "#   print('****Results****')\n",
        "#   train_predictions = model.predict(X_test)\n",
        "#   acc = accuracy_score(y_test, train_predictions)\n",
        "#   print(\"Accuracy: {:.4%}\".format(acc))\n",
        "#   # print(classification_report(y_test.to_numpy().ravel(), train_predictions, labels=target_names))\n",
        "#   # train_predictions = model.predict_proba(X_test)\n",
        "#   ll = log_loss(y_test, train_predictions)\n",
        "#   print(\"Log Loss: {}\".format(ll))\n",
        "  \n"
      ],
      "execution_count": 24,
      "outputs": [
        {
          "output_type": "stream",
          "text": [
            "****Results****\n",
            "Accuracy: 100.0000%\n",
            "              precision    recall  f1-score   support\n",
            "\n",
            "           0       1.00      1.00      1.00       352\n",
            "           1       1.00      1.00      1.00        24\n",
            "\n",
            "    accuracy                           1.00       376\n",
            "   macro avg       1.00      1.00      1.00       376\n",
            "weighted avg       1.00      1.00      1.00       376\n",
            "\n"
          ],
          "name": "stdout"
        }
      ]
    },
    {
      "cell_type": "code",
      "metadata": {
        "colab": {
          "base_uri": "https://localhost:8080/"
        },
        "id": "Bl-XCNYiSTeM",
        "outputId": "b6bc663a-c9dd-4604-afd0-29a0cdcc7797"
      },
      "source": [
        "data_test_trust1 = data_test[data_test.trustLevel <= 2]\n",
        "data_test_trust2 = data_test[data_test.trustLevel > 2]\n",
        "\n",
        "\n",
        "\n",
        "data_test_trust2['fraud'] = np.zeros(len(data_test_trust2), dtype=int)\n",
        "X_test = data_test\n",
        "\n",
        "# X_test = data_test_trust1\n",
        "# X_test\n",
        "# scaler_test = StandardScaler()\n",
        "# scaler_test = scaler_test.fit(X_test)\n",
        "# X_test = scaler_test.transform(X_test)"
      ],
      "execution_count": 25,
      "outputs": [
        {
          "output_type": "stream",
          "text": [
            "/usr/local/lib/python3.6/dist-packages/ipykernel_launcher.py:6: SettingWithCopyWarning: \n",
            "A value is trying to be set on a copy of a slice from a DataFrame.\n",
            "Try using .loc[row_indexer,col_indexer] = value instead\n",
            "\n",
            "See the caveats in the documentation: https://pandas.pydata.org/pandas-docs/stable/user_guide/indexing.html#returning-a-view-versus-a-copy\n",
            "  \n"
          ],
          "name": "stderr"
        }
      ]
    },
    {
      "cell_type": "code",
      "metadata": {
        "id": "V0gXqOLDSTeM"
      },
      "source": [
        "predict_test = model.predict(X_test)\n",
        "# prediction_file = pd.DataFrame(predict_test, columns=['predictions']).to_csv('prediction.csv')\n"
      ],
      "execution_count": 26,
      "outputs": []
    },
    {
      "cell_type": "code",
      "metadata": {
        "id": "Bee1E40ZqTf9"
      },
      "source": [
        "# data_test_trust1['fraud'] = predict_test\r\n",
        "# result = pd.concat([data_test_trust1,data_test_trust2])\r\n",
        "# result = result.sort_index()"
      ],
      "execution_count": 27,
      "outputs": []
    },
    {
      "cell_type": "code",
      "metadata": {
        "colab": {
          "base_uri": "https://localhost:8080/",
          "height": 204
        },
        "id": "gSR7OONdSTeN",
        "outputId": "e93ccf5a-aff9-4f9d-a5f3-5b0185763d61"
      },
      "source": [
        "real_class = pd.read_csv('DMC-2019-realclass.csv', delimiter=\"|\")\r\n",
        "real_class.head()"
      ],
      "execution_count": 28,
      "outputs": [
        {
          "output_type": "execute_result",
          "data": {
            "text/html": [
              "<div>\n",
              "<style scoped>\n",
              "    .dataframe tbody tr th:only-of-type {\n",
              "        vertical-align: middle;\n",
              "    }\n",
              "\n",
              "    .dataframe tbody tr th {\n",
              "        vertical-align: top;\n",
              "    }\n",
              "\n",
              "    .dataframe thead th {\n",
              "        text-align: right;\n",
              "    }\n",
              "</style>\n",
              "<table border=\"1\" class=\"dataframe\">\n",
              "  <thead>\n",
              "    <tr style=\"text-align: right;\">\n",
              "      <th></th>\n",
              "      <th>fraud</th>\n",
              "    </tr>\n",
              "  </thead>\n",
              "  <tbody>\n",
              "    <tr>\n",
              "      <th>0</th>\n",
              "      <td>0</td>\n",
              "    </tr>\n",
              "    <tr>\n",
              "      <th>1</th>\n",
              "      <td>0</td>\n",
              "    </tr>\n",
              "    <tr>\n",
              "      <th>2</th>\n",
              "      <td>0</td>\n",
              "    </tr>\n",
              "    <tr>\n",
              "      <th>3</th>\n",
              "      <td>0</td>\n",
              "    </tr>\n",
              "    <tr>\n",
              "      <th>4</th>\n",
              "      <td>0</td>\n",
              "    </tr>\n",
              "  </tbody>\n",
              "</table>\n",
              "</div>"
            ],
            "text/plain": [
              "   fraud\n",
              "0      0\n",
              "1      0\n",
              "2      0\n",
              "3      0\n",
              "4      0"
            ]
          },
          "metadata": {
            "tags": []
          },
          "execution_count": 28
        }
      ]
    },
    {
      "cell_type": "code",
      "metadata": {
        "colab": {
          "base_uri": "https://localhost:8080/"
        },
        "id": "Qm99db14STeN",
        "outputId": "c9523120-6e4f-4bb1-9544-96f9a3157d6c"
      },
      "source": [
        "# print(classification_report(real_class.to_numpy().ravel(), result.fraud.to_numpy().ravel(), labels=target_names))\r\n",
        "print(classification_report(real_class.to_numpy().ravel(), predict_test.ravel(), labels=target_names))\r\n",
        "def print_confusion_matrix(y_true, y_pred):\r\n",
        "    cm = confusion_matrix(y_true, y_pred)\r\n",
        "    print('True positive = ', cm[0][0])\r\n",
        "    print('False positive = ', cm[0][1])\r\n",
        "    print('False negative = ', cm[1][0])\r\n",
        "    print('True negative = ', cm[1][1])\r\n",
        "print_confusion_matrix(real_class.to_numpy().ravel(), predict_test.ravel())"
      ],
      "execution_count": 29,
      "outputs": [
        {
          "output_type": "stream",
          "text": [
            "              precision    recall  f1-score   support\n",
            "\n",
            "           0       1.00      0.99      1.00    474394\n",
            "           1       0.89      0.92      0.91     23727\n",
            "\n",
            "    accuracy                           0.99    498121\n",
            "   macro avg       0.95      0.96      0.95    498121\n",
            "weighted avg       0.99      0.99      0.99    498121\n",
            "\n",
            "True positive =  471825\n",
            "False positive =  2569\n",
            "False negative =  1957\n",
            "True negative =  21770\n"
          ],
          "name": "stdout"
        }
      ]
    }
  ]
}